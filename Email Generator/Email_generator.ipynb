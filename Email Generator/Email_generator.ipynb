{
 "cells": [
  {
   "cell_type": "code",
   "execution_count": 16,
   "id": "eabda165",
   "metadata": {},
   "outputs": [],
   "source": [
    "from email.message import EmailMessage\n",
    "import ssl\n",
    "import smtplib\n",
    "\n",
    "email_sender = 'ajha1303@gmail.com'\n",
    "email_password = 'arrgnnwswyznnuxi'\n",
    "\n",
    "l = [['Himanshu','hs81821@gmail.com'], ['Dhruv','sevigab412@weishu8.com'],['Shweta','sjha1103@gmail.com']]\n",
    "\n",
    "for i in range(0,len(l)):\n",
    "    email_receiver = l[i][1]\n",
    "    subject = \"Test Mail\"\n",
    "    body = f'''\n",
    "    Hey {l[i][0]},\n",
    "    This is a test email and I hope it reaches you in the best of your health.\n",
    "    Python mein aag laga denge🔥🔥\n",
    "    \n",
    "    Your's truly \n",
    "    Abhishek\n",
    "    '''\n",
    "\n",
    "em = EmailMessage()\n",
    "em['From'] = email_sender\n",
    "em['To'] = email_receiver\n",
    "em['Subject'] = subject\n",
    "em.set_content(body)\n",
    "\n",
    "context = ssl.create_default_context()\n",
    "\n",
    "with smtplib.SMTP_SSL('smtp.gmail.com',465,context=context) as smtp:\n",
    "    smtp.login(email_sender,email_password)\n",
    "    smtp.sendmail(email_sender,email_receiver,em.as_string())"
   ]
  },
  {
   "cell_type": "code",
   "execution_count": null,
   "id": "1eae0c14",
   "metadata": {},
   "outputs": [],
   "source": []
  }
 ],
 "metadata": {
  "kernelspec": {
   "display_name": "Python 3 (ipykernel)",
   "language": "python",
   "name": "python3"
  },
  "language_info": {
   "codemirror_mode": {
    "name": "ipython",
    "version": 3
   },
   "file_extension": ".py",
   "mimetype": "text/x-python",
   "name": "python",
   "nbconvert_exporter": "python",
   "pygments_lexer": "ipython3",
   "version": "3.11.4"
  }
 },
 "nbformat": 4,
 "nbformat_minor": 5
}
