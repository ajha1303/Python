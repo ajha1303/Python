{
 "cells": [
  {
   "cell_type": "code",
   "execution_count": 4,
   "id": "4f055cf3",
   "metadata": {},
   "outputs": [
    {
     "name": "stdout",
     "output_type": "stream",
     "text": [
      "https://www.youtube.com/@programmingwithmosh\n"
     ]
    }
   ],
   "source": [
    "import qrcode\n",
    "\n",
    "def qrcode_gen(text):\n",
    "    \n",
    "    qr = qrcode.QRCode(\n",
    "        version = 1,\n",
    "        error_correction = qrcode.constants.ERROR_CORRECT_L,\n",
    "        box_size = 10,\n",
    "        border = 4\n",
    "    )\n",
    "    \n",
    "    qr.add_data(text)\n",
    "    qr.make(fit=True)\n",
    "    img = qr.make_image(fill_color='black', back_color='white')\n",
    "    img.save('qr_img.png')\n",
    "    \n",
    "a = input()\n",
    "qrcode_gen(a)"
   ]
  }
 ],
 "metadata": {
  "kernelspec": {
   "display_name": "Python 3 (ipykernel)",
   "language": "python",
   "name": "python3"
  },
  "language_info": {
   "codemirror_mode": {
    "name": "ipython",
    "version": 3
   },
   "file_extension": ".py",
   "mimetype": "text/x-python",
   "name": "python",
   "nbconvert_exporter": "python",
   "pygments_lexer": "ipython3",
   "version": "3.11.4"
  }
 },
 "nbformat": 4,
 "nbformat_minor": 5
}
