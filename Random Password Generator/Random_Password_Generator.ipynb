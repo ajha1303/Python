{
 "cells": [
  {
   "cell_type": "code",
   "execution_count": 121,
   "id": "6322521b",
   "metadata": {
    "scrolled": true
   },
   "outputs": [
    {
     "name": "stdout",
     "output_type": "stream",
     "text": [
      "Do you want to generate a random password?\n",
      "Yes/No\n",
      "no\n",
      "Program terminated\n"
     ]
    }
   ],
   "source": [
    "import string\n",
    "import random\n",
    "\n",
    "characters = list(string.digits + string.ascii_letters + '!@#$%^&*')\n",
    "\n",
    "def random_password(size):\n",
    "    password = []\n",
    "    \n",
    "    for i in range(0,size):\n",
    "        password.append(characters[random.randint(0,len(characters)-1)]) \n",
    "        \n",
    "        \n",
    "    random.shuffle(password)\n",
    "    password = \"\".join(password)\n",
    "    print(password)\n",
    "\n",
    "print(\"Do you want to generate a random password?\")\n",
    "print(\"Yes/No\")\n",
    "ans = input()\n",
    "\n",
    "if ans.lower() == 'yes':\n",
    "    size = int(input(\"Input the length of password you want: \"))\n",
    "    random_password(size)\n",
    "elif ans.lower() == 'no':\n",
    "    print(\"Program terminated\")\n",
    "else:\n",
    "    print('''Invalid input!\n",
    "            Try Again.''')"
   ]
  }
 ],
 "metadata": {
  "kernelspec": {
   "display_name": "Python 3 (ipykernel)",
   "language": "python",
   "name": "python3"
  },
  "language_info": {
   "codemirror_mode": {
    "name": "ipython",
    "version": 3
   },
   "file_extension": ".py",
   "mimetype": "text/x-python",
   "name": "python",
   "nbconvert_exporter": "python",
   "pygments_lexer": "ipython3",
   "version": "3.11.4"
  }
 },
 "nbformat": 4,
 "nbformat_minor": 5
}
