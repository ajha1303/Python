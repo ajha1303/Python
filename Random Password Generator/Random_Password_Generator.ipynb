{
 "cells": [
  {
   "cell_type": "code",
   "execution_count": 114,
   "id": "672dd140",
   "metadata": {
    "scrolled": false
   },
   "outputs": [
    {
     "name": "stdout",
     "output_type": "stream",
     "text": [
      "Do you want to generate a random password?\n",
      "Yes/No\n",
      "YeS\n",
      "Input the length of password you want: 5\n",
      "5\n"
     ]
    },
    {
     "ename": "TypeError",
     "evalue": "'NoneType' object cannot be interpreted as an integer",
     "output_type": "error",
     "traceback": [
      "\u001b[0;31m---------------------------------------------------------------------------\u001b[0m",
      "\u001b[0;31mTypeError\u001b[0m                                 Traceback (most recent call last)",
      "Cell \u001b[0;32mIn[114], line 23\u001b[0m\n\u001b[1;32m     21\u001b[0m \u001b[38;5;28;01mif\u001b[39;00m ans\u001b[38;5;241m.\u001b[39mlower() \u001b[38;5;241m==\u001b[39m \u001b[38;5;124m'\u001b[39m\u001b[38;5;124myes\u001b[39m\u001b[38;5;124m'\u001b[39m:\n\u001b[1;32m     22\u001b[0m     size \u001b[38;5;241m=\u001b[39m \u001b[38;5;28mprint\u001b[39m(\u001b[38;5;28mint\u001b[39m(\u001b[38;5;28minput\u001b[39m(\u001b[38;5;124m\"\u001b[39m\u001b[38;5;124mInput the length of password you want: \u001b[39m\u001b[38;5;124m\"\u001b[39m)))\n\u001b[0;32m---> 23\u001b[0m     random_password(size)\n\u001b[1;32m     24\u001b[0m \u001b[38;5;28;01melif\u001b[39;00m ans\u001b[38;5;241m.\u001b[39mlower() \u001b[38;5;241m==\u001b[39m \u001b[38;5;124m'\u001b[39m\u001b[38;5;124mno\u001b[39m\u001b[38;5;124m'\u001b[39m:\n\u001b[1;32m     25\u001b[0m     \u001b[38;5;28mprint\u001b[39m(\u001b[38;5;124m\"\u001b[39m\u001b[38;5;124mProgram terminated\u001b[39m\u001b[38;5;124m\"\u001b[39m)\n",
      "Cell \u001b[0;32mIn[114], line 9\u001b[0m, in \u001b[0;36mrandom_password\u001b[0;34m(size)\u001b[0m\n\u001b[1;32m      6\u001b[0m \u001b[38;5;28;01mdef\u001b[39;00m \u001b[38;5;21mrandom_password\u001b[39m(size):\n\u001b[1;32m      7\u001b[0m     password \u001b[38;5;241m=\u001b[39m []\n\u001b[0;32m----> 9\u001b[0m     \u001b[38;5;28;01mfor\u001b[39;00m i \u001b[38;5;129;01min\u001b[39;00m \u001b[38;5;28mrange\u001b[39m(\u001b[38;5;241m0\u001b[39m,size):\n\u001b[1;32m     10\u001b[0m         password\u001b[38;5;241m.\u001b[39mappend(characters[random\u001b[38;5;241m.\u001b[39mrandint(\u001b[38;5;241m0\u001b[39m,\u001b[38;5;28mlen\u001b[39m(characters))]) \n\u001b[1;32m     13\u001b[0m     random\u001b[38;5;241m.\u001b[39mshuffle(password)\n",
      "\u001b[0;31mTypeError\u001b[0m: 'NoneType' object cannot be interpreted as an integer"
     ]
    }
   ],
   "source": [
    "import string\n",
    "import random\n",
    "\n",
    "characters = list(string.digits + string.ascii_letters + '!@#$%^&*')\n",
    "\n",
    "def random_password(size):\n",
    "    password = []\n",
    "    \n",
    "    for i in range(0,size):\n",
    "        password.append(characters[random.randint(0,len(characters)-1)]) \n",
    "        \n",
    "        \n",
    "    random.shuffle(password)\n",
    "    password = \"\".join(password)\n",
    "    print(password)\n",
    "\n",
    "print(\"Do you want to generate a random password?\")\n",
    "print(\"Yes/No\")\n",
    "ans = input()\n",
    "\n",
    "if ans.lower() == 'yes':\n",
    "    size = print(int(input(\"Input the length of password you want: \")))\n",
    "    random_password(size)\n",
    "elif ans.lower() == 'no':\n",
    "    print(\"Program terminated\")\n",
    "else:\n",
    "    print('''Invalid input!\n",
    "            Try Again.''')"
   ]
  }
 ],
 "metadata": {
  "kernelspec": {
   "display_name": "Python 3 (ipykernel)",
   "language": "python",
   "name": "python3"
  },
  "language_info": {
   "codemirror_mode": {
    "name": "ipython",
    "version": 3
   },
   "file_extension": ".py",
   "mimetype": "text/x-python",
   "name": "python",
   "nbconvert_exporter": "python",
   "pygments_lexer": "ipython3",
   "version": "3.11.4"
  }
 },
 "nbformat": 4,
 "nbformat_minor": 5
}
